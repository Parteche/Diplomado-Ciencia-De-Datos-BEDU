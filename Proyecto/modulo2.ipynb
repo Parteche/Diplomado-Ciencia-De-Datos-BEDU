{
  "nbformat": 4,
  "nbformat_minor": 0,
  "metadata": {
    "colab": {
      "provenance": [],
      "mount_file_id": "https://github.com/Parteche/Diplomado-Ciencia-De-Datos-BEDU/blob/main/Proyecto/modulo2.ipynb",
      "authorship_tag": "ABX9TyMe2t5hupZo+tn5BX1dcFvS",
      "include_colab_link": true
    },
    "kernelspec": {
      "name": "python3",
      "display_name": "Python 3"
    },
    "language_info": {
      "name": "python"
    }
  },
  "cells": [
    {
      "cell_type": "markdown",
      "metadata": {
        "id": "view-in-github",
        "colab_type": "text"
      },
      "source": [
        "<a href=\"https://colab.research.google.com/github/Parteche/Diplomado-Ciencia-De-Datos-BEDU/blob/main/Proyecto/modulo2.ipynb\" target=\"_parent\"><img src=\"https://colab.research.google.com/assets/colab-badge.svg\" alt=\"Open In Colab\"/></a>"
      ]
    },
    {
      "cell_type": "markdown",
      "source": [
        "Proyecto Modulo 2 Procesamiendo de datos con python"
      ],
      "metadata": {
        "id": "ERXgQTN4MzHX"
      }
    },
    {
      "cell_type": "markdown",
      "source": [
        "La base de datos que escogimos la descargamos de kaggle, es de libros, y la escogimos por que contiene la informacion que puede contestar a la pregunta principal que nos hicimos, la cual es:\n",
        "\n",
        "¿El numero de ventas de un libro es directamente proporcional al gusto de los lectores?"
      ],
      "metadata": {
        "id": "2s06nnKE-0XV"
      }
    },
    {
      "cell_type": "code",
      "source": [
        "import pandas as pd"
      ],
      "metadata": {
        "id": "LCL16bZHAThY"
      },
      "execution_count": 1,
      "outputs": []
    }
  ]
}